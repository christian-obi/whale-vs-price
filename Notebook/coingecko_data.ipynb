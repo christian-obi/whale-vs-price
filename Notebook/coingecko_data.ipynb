{
 "cells": [
  {
   "cell_type": "markdown",
   "id": "3a044edb",
   "metadata": {},
   "source": [
    "## Get coingecko historical prices\n",
    "\n"
   ]
  },
  {
   "cell_type": "markdown",
   "id": "098c0cf3",
   "metadata": {},
   "source": [
    "### Get Arbitrum price for the past 30days\n",
    "\n",
    "#### Imports and configs"
   ]
  },
  {
   "cell_type": "code",
   "execution_count": 1,
   "id": "1d6ae32f",
   "metadata": {},
   "outputs": [],
   "source": [
    "import os\n",
    "import requests\n",
    "import pandas as pd\n",
    "import joblib\n",
    "from dotenv import load_dotenv\n",
    "\n",
    "# Load environment variables from .env file\n",
    "load_dotenv()\n",
    "\n",
    "#set max width for pandas display\n",
    "pd.set_option('display.max_colwidth', None)\n",
    "\n",
    "# Get API key from environment variable\n",
    "gecko_api_key = os.getenv(\"GECKO_API\")\n",
    "# Define data directory\n",
    "DATA_DIR = \"/home/realist/projects/whale-vs-price/database\"\n",
    "os.makedirs(DATA_DIR, exist_ok=True)\n"
   ]
  },
  {
   "cell_type": "markdown",
   "id": "1dcba0d1",
   "metadata": {},
   "source": [
    "#### setting parameters"
   ]
  },
  {
   "cell_type": "code",
   "execution_count": 2,
   "id": "4bfd7fda",
   "metadata": {},
   "outputs": [],
   "source": [
    "coin_id = \"arbitrum\"\n",
    "vs_currency = \"usd\"\n",
    "days = \"30\"\n",
    "\n",
    "url = f\"https://pro-api.coingecko.com/api/v3/coins/{coin_id}/market_chart\"\n",
    "params = {\n",
    "    \"vs_currency\": vs_currency,\n",
    "    \"days\": days\n",
    "}\n",
    "headers = {\n",
    "    \"accept\" : \"application/json\",\n",
    "    \"x-cg-pro-api-key\": gecko_api_key\n",
    "}\n",
    "\n",
    "\n",
    "\n"
   ]
  },
  {
   "cell_type": "markdown",
   "id": "c35ca7f1",
   "metadata": {},
   "source": [
    "### Calling the data and converting to dataframe using pandas"
   ]
  },
  {
   "cell_type": "code",
   "execution_count": null,
   "id": "ed7a0be4",
   "metadata": {},
   "outputs": [
    {
     "data": {
      "text/html": [
       "<div>\n",
       "<style scoped>\n",
       "    .dataframe tbody tr th:only-of-type {\n",
       "        vertical-align: middle;\n",
       "    }\n",
       "\n",
       "    .dataframe tbody tr th {\n",
       "        vertical-align: top;\n",
       "    }\n",
       "\n",
       "    .dataframe thead th {\n",
       "        text-align: right;\n",
       "    }\n",
       "</style>\n",
       "<table border=\"1\" class=\"dataframe\">\n",
       "  <thead>\n",
       "    <tr style=\"text-align: right;\">\n",
       "      <th></th>\n",
       "      <th>timestamp</th>\n",
       "      <th>price</th>\n",
       "    </tr>\n",
       "  </thead>\n",
       "  <tbody>\n",
       "    <tr>\n",
       "      <th>0</th>\n",
       "      <td>2025-07-10</td>\n",
       "      <td>0.380202</td>\n",
       "    </tr>\n",
       "    <tr>\n",
       "      <th>1</th>\n",
       "      <td>2025-07-11</td>\n",
       "      <td>0.413512</td>\n",
       "    </tr>\n",
       "    <tr>\n",
       "      <th>2</th>\n",
       "      <td>2025-07-12</td>\n",
       "      <td>0.399212</td>\n",
       "    </tr>\n",
       "    <tr>\n",
       "      <th>3</th>\n",
       "      <td>2025-07-13</td>\n",
       "      <td>0.410277</td>\n",
       "    </tr>\n",
       "    <tr>\n",
       "      <th>4</th>\n",
       "      <td>2025-07-14</td>\n",
       "      <td>0.415686</td>\n",
       "    </tr>\n",
       "  </tbody>\n",
       "</table>\n",
       "</div>"
      ],
      "text/plain": [
       "    timestamp     price\n",
       "0  2025-07-10  0.380202\n",
       "1  2025-07-11  0.413512\n",
       "2  2025-07-12  0.399212\n",
       "3  2025-07-13  0.410277\n",
       "4  2025-07-14  0.415686"
      ]
     },
     "execution_count": 12,
     "metadata": {},
     "output_type": "execute_result"
    }
   ],
   "source": [
    "# calling the data using .get\n",
    "response = requests.get(url, headers=headers, params=params)\n",
    "data = response.json()\n",
    "\n",
    "# converting the data into a pandas DataFrame\n",
    "df = pd.DataFrame(data['prices'], columns=['timestamp', 'price'])\n",
    "\n",
    "# converting the timestamp(was in UNIX format) to datetime\n",
    "df['timestamp'] = pd.to_datetime(df['timestamp'], unit='ms')\n",
    "\n",
    "# converting the timestamp to date\n",
    "df['timestamp'] = pd.to_datetime(df['timestamp']).dt.date\n",
    "\n",
    "# grouping the data by date and calculating the mean price\n",
    "df = df.groupby('timestamp', as_index=False)['price'].mean()\n",
    "\n",
    "# converting the price column to float\n",
    "df = df.astype({\"price\": \"float64\"})\n",
    "\n",
    "df.head()\n"
   ]
  },
  {
   "cell_type": "code",
   "execution_count": 13,
   "id": "adece115",
   "metadata": {},
   "outputs": [
    {
     "data": {
      "text/plain": [
       "['/home/realist/projects/whale-vs-price/database/coingecko_data.joblib']"
      ]
     },
     "execution_count": 13,
     "metadata": {},
     "output_type": "execute_result"
    }
   ],
   "source": [
    "# define and assign where to save the data\n",
    "file_path= os.path.join(DATA_DIR, \"coingecko_data.joblib\")\n",
    "\n",
    "# save the DataFrame to a joblib file\n",
    "joblib.dump(df, file_path)"
   ]
  },
  {
   "cell_type": "code",
   "execution_count": 14,
   "id": "79ffd557",
   "metadata": {},
   "outputs": [
    {
     "data": {
      "text/html": [
       "<div>\n",
       "<style scoped>\n",
       "    .dataframe tbody tr th:only-of-type {\n",
       "        vertical-align: middle;\n",
       "    }\n",
       "\n",
       "    .dataframe tbody tr th {\n",
       "        vertical-align: top;\n",
       "    }\n",
       "\n",
       "    .dataframe thead th {\n",
       "        text-align: right;\n",
       "    }\n",
       "</style>\n",
       "<table border=\"1\" class=\"dataframe\">\n",
       "  <thead>\n",
       "    <tr style=\"text-align: right;\">\n",
       "      <th></th>\n",
       "      <th>timestamp</th>\n",
       "      <th>price</th>\n",
       "    </tr>\n",
       "  </thead>\n",
       "  <tbody>\n",
       "    <tr>\n",
       "      <th>0</th>\n",
       "      <td>2025-07-10</td>\n",
       "      <td>0.380202</td>\n",
       "    </tr>\n",
       "    <tr>\n",
       "      <th>1</th>\n",
       "      <td>2025-07-11</td>\n",
       "      <td>0.413512</td>\n",
       "    </tr>\n",
       "    <tr>\n",
       "      <th>2</th>\n",
       "      <td>2025-07-12</td>\n",
       "      <td>0.399212</td>\n",
       "    </tr>\n",
       "    <tr>\n",
       "      <th>3</th>\n",
       "      <td>2025-07-13</td>\n",
       "      <td>0.410277</td>\n",
       "    </tr>\n",
       "    <tr>\n",
       "      <th>4</th>\n",
       "      <td>2025-07-14</td>\n",
       "      <td>0.415686</td>\n",
       "    </tr>\n",
       "    <tr>\n",
       "      <th>5</th>\n",
       "      <td>2025-07-15</td>\n",
       "      <td>0.408072</td>\n",
       "    </tr>\n",
       "    <tr>\n",
       "      <th>6</th>\n",
       "      <td>2025-07-16</td>\n",
       "      <td>0.440011</td>\n",
       "    </tr>\n",
       "    <tr>\n",
       "      <th>7</th>\n",
       "      <td>2025-07-17</td>\n",
       "      <td>0.442971</td>\n",
       "    </tr>\n",
       "    <tr>\n",
       "      <th>8</th>\n",
       "      <td>2025-07-18</td>\n",
       "      <td>0.467707</td>\n",
       "    </tr>\n",
       "    <tr>\n",
       "      <th>9</th>\n",
       "      <td>2025-07-19</td>\n",
       "      <td>0.457106</td>\n",
       "    </tr>\n",
       "  </tbody>\n",
       "</table>\n",
       "</div>"
      ],
      "text/plain": [
       "    timestamp     price\n",
       "0  2025-07-10  0.380202\n",
       "1  2025-07-11  0.413512\n",
       "2  2025-07-12  0.399212\n",
       "3  2025-07-13  0.410277\n",
       "4  2025-07-14  0.415686\n",
       "5  2025-07-15  0.408072\n",
       "6  2025-07-16  0.440011\n",
       "7  2025-07-17  0.442971\n",
       "8  2025-07-18  0.467707\n",
       "9  2025-07-19  0.457106"
      ]
     },
     "execution_count": 14,
     "metadata": {},
     "output_type": "execute_result"
    }
   ],
   "source": [
    "# check the saved DataFrame\n",
    "check = joblib.load(file_path)\n",
    "\n",
    "check.head(10)"
   ]
  }
 ],
 "metadata": {
  "kernelspec": {
   "display_name": "wvpenv",
   "language": "python",
   "name": "python3"
  },
  "language_info": {
   "codemirror_mode": {
    "name": "ipython",
    "version": 3
   },
   "file_extension": ".py",
   "mimetype": "text/x-python",
   "name": "python",
   "nbconvert_exporter": "python",
   "pygments_lexer": "ipython3",
   "version": "3.12.3"
  }
 },
 "nbformat": 4,
 "nbformat_minor": 5
}
