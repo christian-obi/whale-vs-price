{
 "cells": [
  {
   "cell_type": "markdown",
   "id": "a6fa914a",
   "metadata": {},
   "source": [
    "### Results and Plots"
   ]
  },
  {
   "cell_type": "markdown",
   "id": "4e061956",
   "metadata": {},
   "source": [
    "#### Call data from Database, merge and plot\n",
    "\n",
    "Import and config"
   ]
  },
  {
   "cell_type": "code",
   "execution_count": 1,
   "id": "d8d1768e",
   "metadata": {},
   "outputs": [],
   "source": [
    "import joblib\n",
    "import pandas as pd\n",
    "import matplotlib.pyplot as plt\n",
    "import seaborn as sns\n",
    "import numpy as np"
   ]
  },
  {
   "cell_type": "markdown",
   "id": "8cfcb0b4",
   "metadata": {},
   "source": [
    "#### Load database"
   ]
  },
  {
   "cell_type": "code",
   "execution_count": 2,
   "id": "65259bf3",
   "metadata": {},
   "outputs": [
    {
     "name": "stdout",
     "output_type": "stream",
     "text": [
      "    timestamp     price\n",
      "0  2025-07-10  0.380202\n",
      "1  2025-07-11  0.413512\n",
      "2  2025-07-12  0.399212\n",
      "3  2025-07-13  0.410277\n",
      "4  2025-07-14  0.415686\n",
      "    timestamp        amount  transaction  whales\n",
      "0  2025-07-10  1.502546e+07           44      27\n",
      "1  2025-07-11  7.382927e+07          187      89\n",
      "2  2025-07-12  2.941678e+07           86      40\n",
      "3  2025-07-13  3.846587e+07           92      40\n",
      "4  2025-07-14  5.923004e+07          158      67\n"
     ]
    }
   ],
   "source": [
    "# load dune data\n",
    "save_path = \"/home/realist/projects/whale-vs-price/database/dune_api_data.joblib\"\n",
    "df_dune = joblib.load(save_path)\n",
    "\n",
    "# load coingecko data\n",
    "file_path = \"/home/realist/projects/whale-vs-price/database/coingecko_data.joblib\"\n",
    "df_coingecko = joblib.load(file_path)\n",
    "\n",
    "print(df_coingecko.head())\n",
    "print(df_dune.head())"
   ]
  },
  {
   "cell_type": "markdown",
   "id": "e40478ba",
   "metadata": {},
   "source": [
    "#### Merge data"
   ]
  },
  {
   "cell_type": "code",
   "execution_count": 3,
   "id": "58de247a",
   "metadata": {},
   "outputs": [
    {
     "data": {
      "text/html": [
       "<div>\n",
       "<style scoped>\n",
       "    .dataframe tbody tr th:only-of-type {\n",
       "        vertical-align: middle;\n",
       "    }\n",
       "\n",
       "    .dataframe tbody tr th {\n",
       "        vertical-align: top;\n",
       "    }\n",
       "\n",
       "    .dataframe thead th {\n",
       "        text-align: right;\n",
       "    }\n",
       "</style>\n",
       "<table border=\"1\" class=\"dataframe\">\n",
       "  <thead>\n",
       "    <tr style=\"text-align: right;\">\n",
       "      <th></th>\n",
       "      <th>timestamp</th>\n",
       "      <th>amount</th>\n",
       "      <th>transaction</th>\n",
       "      <th>whales</th>\n",
       "      <th>price</th>\n",
       "    </tr>\n",
       "  </thead>\n",
       "  <tbody>\n",
       "    <tr>\n",
       "      <th>0</th>\n",
       "      <td>2025-07-10</td>\n",
       "      <td>1.502546e+07</td>\n",
       "      <td>44</td>\n",
       "      <td>27</td>\n",
       "      <td>0.380202</td>\n",
       "    </tr>\n",
       "    <tr>\n",
       "      <th>1</th>\n",
       "      <td>2025-07-11</td>\n",
       "      <td>7.382927e+07</td>\n",
       "      <td>187</td>\n",
       "      <td>89</td>\n",
       "      <td>0.413512</td>\n",
       "    </tr>\n",
       "    <tr>\n",
       "      <th>2</th>\n",
       "      <td>2025-07-12</td>\n",
       "      <td>2.941678e+07</td>\n",
       "      <td>86</td>\n",
       "      <td>40</td>\n",
       "      <td>0.399212</td>\n",
       "    </tr>\n",
       "    <tr>\n",
       "      <th>3</th>\n",
       "      <td>2025-07-13</td>\n",
       "      <td>3.846587e+07</td>\n",
       "      <td>92</td>\n",
       "      <td>40</td>\n",
       "      <td>0.410277</td>\n",
       "    </tr>\n",
       "    <tr>\n",
       "      <th>4</th>\n",
       "      <td>2025-07-14</td>\n",
       "      <td>5.923004e+07</td>\n",
       "      <td>158</td>\n",
       "      <td>67</td>\n",
       "      <td>0.415686</td>\n",
       "    </tr>\n",
       "  </tbody>\n",
       "</table>\n",
       "</div>"
      ],
      "text/plain": [
       "    timestamp        amount  transaction  whales     price\n",
       "0  2025-07-10  1.502546e+07           44      27  0.380202\n",
       "1  2025-07-11  7.382927e+07          187      89  0.413512\n",
       "2  2025-07-12  2.941678e+07           86      40  0.399212\n",
       "3  2025-07-13  3.846587e+07           92      40  0.410277\n",
       "4  2025-07-14  5.923004e+07          158      67  0.415686"
      ]
     },
     "execution_count": 3,
     "metadata": {},
     "output_type": "execute_result"
    }
   ],
   "source": [
    "df = pd.merge(df_dune, df_coingecko, on= 'timestamp', how= 'inner')\n",
    "\n",
    "df.head()"
   ]
  }
 ],
 "metadata": {
  "kernelspec": {
   "display_name": "wvpenv",
   "language": "python",
   "name": "python3"
  },
  "language_info": {
   "codemirror_mode": {
    "name": "ipython",
    "version": 3
   },
   "file_extension": ".py",
   "mimetype": "text/x-python",
   "name": "python",
   "nbconvert_exporter": "python",
   "pygments_lexer": "ipython3",
   "version": "3.12.3"
  }
 },
 "nbformat": 4,
 "nbformat_minor": 5
}
