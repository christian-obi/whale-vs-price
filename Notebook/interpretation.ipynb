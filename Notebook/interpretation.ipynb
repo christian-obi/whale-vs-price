{
 "cells": [
  {
   "cell_type": "markdown",
   "id": "bd9e2331",
   "metadata": {},
   "source": [
    "# **Do Whales Move the Market? — Analyzing Large Transfers vs Price Movements**\n",
    "\n",
    "Over the past **30 days**, we analyzed more than **$1 billion** worth of ARB token transactions on the **Arbitrum blockchain** to investigate whether large “whale” transfers have a measurable influence on price movements.\n",
    "\n",
    "---\n",
    "\n",
    "## **1. Methodology**\n",
    "We combined on-chain whale transaction data with ARB token price data, then performed statistical and visual analysis using:\n",
    "\n",
    "- **Pearson's correlation coefficient**  \n",
    "- **Scatter plot** of whale transactions vs. price impact  \n",
    "- **Line–bar plot** comparing transaction volumes and price change percentages  \n",
    "\n",
    "---\n",
    "\n",
    "## **2. Pearson Correlation Results**\n",
    "| Metric                  | Value     | Interpretation                            |\n",
    "|------------------------|-----------|--------------------------------------------|\n",
    "| Correlation coefficient | -0.0246   | Very weak negative relationship           |\n",
    "| P-value                 | 0.8973    | Not statistically significant              |\n",
    "\n",
    "A correlation close to zero suggests little to no linear relationship.  \n",
    "The high p-value (> 0.05) indicates the observed correlation is likely due to random chance.\n",
    "\n",
    "---\n",
    "\n",
    "## **3. Visual Analysis**\n",
    "\n",
    "**Figure 1 – Scatter plot of Whale Transactions vs. Price Impact**  \n",
    "No clear upward or downward trend is visible, supporting the weak correlation result.\n",
    "\n",
    "![scatterplot](scatterplot.png)\n",
    "\n",
    "---\n",
    "\n",
    "**Figure 2 – Line–Bar Plot of Whale Transactions and Price Changes**  \n",
    "Both series fluctuate independently, without consistent patterns.\n",
    "\n",
    "![barplot](barplot.png)\n",
    "\n",
    "---\n",
    "\n",
    "## **4. Conclusion**\n",
    "From this 30-day dataset, there is **no meaningful statistical link** between large whale transfers and short-term ARB price movements.  \n",
    "This suggests that **whale activity alone** is not a strong predictor of immediate price changes in the observed period.\n",
    "\n",
    "---\n",
    "\n"
   ]
  }
 ],
 "metadata": {
  "language_info": {
   "name": "python"
  }
 },
 "nbformat": 4,
 "nbformat_minor": 5
}
